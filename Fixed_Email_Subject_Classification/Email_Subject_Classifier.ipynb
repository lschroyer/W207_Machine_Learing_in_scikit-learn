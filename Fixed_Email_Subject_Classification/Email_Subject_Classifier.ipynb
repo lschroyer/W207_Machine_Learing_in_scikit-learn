{
 "cells": [
  {
   "cell_type": "markdown",
   "metadata": {
    "colab_type": "text",
    "id": "6t55qCf3Fsxa"
   },
   "source": [
    "# Project 2: Topic Classification"
   ]
  },
  {
   "cell_type": "markdown",
   "metadata": {
    "colab_type": "text",
    "id": "j9-9G8z4Fsxd"
   },
   "source": [
    "In this project, you'll work with text data from newsgroup posts on a variety of topics. You'll train classifiers to distinguish posts by topics inferred from the text. Whereas with digit classification, where each input is relatively dense (represented as a 28x28 matrix of pixels, many of which are non-zero), here each document is relatively sparse (represented as a bag-of-words). Only a few words of the total vocabulary are active in any given document. The assumption is that a label depends only on the count of words, not their order.\n",
    "\n",
    "The `sklearn` documentation on feature extraction may be useful:\n",
    "http://scikit-learn.org/stable/modules/feature_extraction.html\n",
    "\n",
    "Each problem can be addressed succinctly with the included packages -- please don't add any more. Grading will be based on writing clean, commented code, along with a few short answers.\n",
    "\n",
    "As always, you're welcome to work on the project in groups and discuss ideas on Slack, but <b> please prepare your own write-up with your own code. </b>"
   ]
  },
  {
   "cell_type": "code",
   "execution_count": 2,
   "metadata": {
    "colab": {},
    "colab_type": "code",
    "id": "AUYW83LqFsxd"
   },
   "outputs": [],
   "source": [
    "# This tells matplotlib not to try opening a new window for each plot.\n",
    "%matplotlib inline\n",
    "\n",
    "# General libraries.\n",
    "import re\n",
    "import numpy as np\n",
    "import matplotlib.pyplot as plt\n",
    "\n",
    "# SK-learn libraries for learning.\n",
    "from sklearn.pipeline import Pipeline\n",
    "from sklearn.neighbors import KNeighborsClassifier\n",
    "from sklearn.linear_model import LogisticRegression\n",
    "from sklearn.naive_bayes import BernoulliNB\n",
    "from sklearn.naive_bayes import MultinomialNB\n",
    "\n",
    "# SK-learn libraries for evaluation.\n",
    "from sklearn.metrics import confusion_matrix\n",
    "from sklearn import metrics\n",
    "from sklearn.metrics import classification_report\n",
    "\n",
    "# SK-learn library for importing the newsgroup data.\n",
    "from sklearn.datasets import fetch_20newsgroups\n",
    "\n",
    "# SK-learn libraries for feature extraction from text.\n",
    "from sklearn.feature_extraction.text import *\n",
    "\n",
    "import nltk"
   ]
  },
  {
   "cell_type": "markdown",
   "metadata": {
    "colab_type": "text",
    "id": "_ALNjGgCFsxg"
   },
   "source": [
    "Load the data, stripping out metadata so that only textual features will be used, and restricting documents to 4 specific topics. By default, newsgroups data is split into training and test sets, but here the test set gets further split into development and test sets.  (If you remove the categories argument from the fetch function calls, you'd get documents from all 20 topics.)"
   ]
  },
  {
   "cell_type": "code",
   "execution_count": 3,
   "metadata": {
    "colab": {},
    "colab_type": "code",
    "id": "ecYpcoxaFsxh"
   },
   "outputs": [
    {
     "name": "stdout",
     "output_type": "stream",
     "text": [
      "training label shape: (2034,)\n",
      "dev label shape: (676,)\n",
      "test label shape: (677,)\n",
      "labels names: ['alt.atheism', 'comp.graphics', 'sci.space', 'talk.religion.misc']\n"
     ]
    }
   ],
   "source": [
    "categories = ['alt.atheism', 'talk.religion.misc', 'comp.graphics', 'sci.space']\n",
    "newsgroups_train = fetch_20newsgroups(subset='train',\n",
    "                                      remove=('headers', 'footers', 'quotes'),\n",
    "                                      categories=categories)\n",
    "newsgroups_test  = fetch_20newsgroups(subset='test',\n",
    "                                      remove=('headers', 'footers', 'quotes'),\n",
    "                                      categories=categories)\n",
    "\n",
    "num_test = int(len(newsgroups_test.target) / 2)\n",
    "test_data, test_labels   = newsgroups_test.data[num_test:], newsgroups_test.target[num_test:]\n",
    "dev_data, dev_labels     = newsgroups_test.data[:num_test], newsgroups_test.target[:num_test]\n",
    "train_data, train_labels = newsgroups_train.data, newsgroups_train.target\n",
    "\n",
    "print('training label shape:', train_labels.shape)\n",
    "print('dev label shape:',      dev_labels.shape)\n",
    "print('test label shape:',     test_labels.shape)\n",
    "print('labels names:',         newsgroups_train.target_names)"
   ]
  },
  {
   "cell_type": "markdown",
   "metadata": {
    "colab_type": "text",
    "id": "OHTnOke6Fsxk"
   },
   "source": [
    "### Part 1:\n",
    "\n",
    "For each of the first 5 training examples, print the text of the message along with the label."
   ]
  },
  {
   "cell_type": "code",
   "execution_count": 88,
   "metadata": {
    "colab": {},
    "colab_type": "code",
    "id": "X8zhA06xFsxl"
   },
   "outputs": [
    {
     "name": "stdout",
     "output_type": "stream",
     "text": [
      "---------\n",
      "**Label: 1 - comp.graphics\n",
      "\n",
      "**Data:Hi,\n",
      "\n",
      "I've noticed that if you only save a model (with all your mapping planes\n",
      "positioned carefully) to a .3DS file that when you reload it after restarting\n",
      "3DS, they are given a default position and orientation.  But if you save\n",
      "to a .PRJ file their positions/orientation are preserved.  Does anyone\n",
      "know why this information is not stored in the .3DS file?  Nothing is\n",
      "explicitly said in the manual about saving texture rules in the .PRJ file. \n",
      "I'd like to be able to read the texture rule information, does anyone have \n",
      "the format for the .PRJ file?\n",
      "\n",
      "Is the .CEL file format available from somewhere?\n",
      "\n",
      "Rych\n",
      "\n",
      "---------\n",
      "**Label: 3 - talk.religion.misc\n",
      "\n",
      "**Data:\n",
      "\n",
      "Seems to be, barring evidence to the contrary, that Koresh was simply\n",
      "another deranged fanatic who thought it neccessary to take a whole bunch of\n",
      "folks with him, children and all, to satisfy his delusional mania. Jim\n",
      "Jones, circa 1993.\n",
      "\n",
      "\n",
      "Nope - fruitcakes like Koresh have been demonstrating such evil corruption\n",
      "for centuries.\n",
      "\n",
      "---------\n",
      "**Label: 2 - sci.space\n",
      "\n",
      "**Data:\n",
      " >In article <1993Apr19.020359.26996@sq.sq.com>, msb@sq.sq.com (Mark Brader) \n",
      "\n",
      "MB>                                                             So the\n",
      "MB> 1970 figure seems unlikely to actually be anything but a perijove.\n",
      "\n",
      "JG>Sorry, _perijoves_...I'm not used to talking this language.\n",
      "\n",
      "Couldn't we just say periapsis or apoapsis?\n",
      "\n",
      " \n",
      "\n",
      "---------\n",
      "**Label: 0 - alt.atheism\n",
      "\n",
      "**Data:I have a request for those who would like to see Charley Wingate\n",
      "respond to the \"Charley Challenges\" (and judging from my e-mail, there\n",
      "appear to be quite a few of you.)  \n",
      "\n",
      "It is clear that Mr. Wingate intends to continue to post tangential or\n",
      "unrelated articles while ingoring the Challenges themselves.  Between\n",
      "the last two re-postings of the Challenges, I noted perhaps a dozen or\n",
      "more posts by Mr. Wingate, none of which answered a single Challenge.  \n",
      "\n",
      "It seems unmistakable to me that Mr. Wingate hopes that the questions\n",
      "will just go away, and he is doing his level best to change the\n",
      "subject.  Given that this seems a rather common net.theist tactic, I\n",
      "would like to suggest that we impress upon him our desire for answers,\n",
      "in the following manner:\n",
      "\n",
      "1. Ignore any future articles by Mr. Wingate that do not address the\n",
      "Challenges, until he answers them or explictly announces that he\n",
      "refuses to do so.\n",
      "\n",
      "--or--\n",
      "\n",
      "2. If you must respond to one of his articles, include within it\n",
      "something similar to the following:\n",
      "\n",
      "    \"Please answer the questions posed to you in the Charley Challenges.\"\n",
      "\n",
      "Really, I'm not looking to humiliate anyone here, I just want some\n",
      "honest answers.  You wouldn't think that honesty would be too much to\n",
      "ask from a devout Christian, would you?  \n",
      "\n",
      "Nevermind, that was a rhetorical question.\n",
      "\n",
      "---------\n",
      "**Label: 2 - sci.space\n",
      "\n",
      "**Data:AW&ST  had a brief blurb on a Manned Lunar Exploration confernce\n",
      "May 7th  at Crystal City Virginia, under the auspices of AIAA.\n",
      "\n",
      "Does anyone know more about this?  How much, to attend????\n",
      "\n",
      "Anyone want to go?\n",
      "\n"
     ]
    }
   ],
   "source": [
    "def P1(num_examples=5):\n",
    "    ### STUDENT START ###\n",
    "\n",
    "    #list comprehension loop over first 5 labels and examples in the training data\n",
    "    [print(\"---------\\n**Label: \",train_labels[i], \" - \", newsgroups_train.target_names[train_labels[i]],\n",
    "           \"\\n\\n**Data:\", train_data[i] ,\"\\n\", sep=\"\")\n",
    "     for i in range(num_examples)]\n",
    "\n",
    "        ### STUDENT END ###\n",
    "\n",
    "P1(5)"
   ]
  },
  {
   "cell_type": "markdown",
   "metadata": {
    "colab_type": "text",
    "id": "onfno6uHFsxm"
   },
   "source": [
    "### Part 2:\n",
    "\n",
    "Transform the training data into a matrix of **word** unigram feature vectors.  What is the size of the vocabulary? What is the average number of non-zero features per example?  What is the fraction of the non-zero entries in the matrix?  What are the 0th and last feature strings (in alphabetical order)?<br/>\n",
    "_Use `CountVectorization` and its `.fit_transform` method.  Use `.nnz` and `.shape` attributes, and `.get_feature_names` method._\n",
    "\n",
    "Now transform the training data into a matrix of **word** unigram feature vectors using your own vocabulary with these 4 words: [\"atheism\", \"graphics\", \"space\", \"religion\"].  Confirm the size of the vocabulary. What is the average number of non-zero features per example?<br/>\n",
    "_Use `CountVectorization(vocabulary=...)` and its `.transform` method._\n",
    "\n",
    "Now transform the training data into a matrix of **character** bigram and trigram feature vectors.  What is the size of the vocabulary?<br/>\n",
    "_Use `CountVectorization(analyzer=..., ngram_range=...)` and its `.fit_transform` method._\n",
    "\n",
    "Now transform the training data into a matrix of **word** unigram feature vectors and prune words that appear in fewer than 10 documents.  What is the size of the vocabulary?<br/>\n",
    "_Use `CountVectorization(min_df=...)` and its `.fit_transform` method._\n",
    "\n",
    "Now again transform the training data into a matrix of **word** unigram feature vectors. What is the fraction of words in the development vocabulary that is missing from the training vocabulary?<br/>\n",
    "_Hint: Build vocabularies for both train and dev and look at the size of the difference._\n",
    "\n",
    "Notes:\n",
    "* `.fit_transform` makes 2 passes through the data: first it computes the vocabulary (\"fit\"), second it converts the raw text into feature vectors using the vocabulary (\"transform\").\n",
    "* `.fit_transform` and `.transform` return sparse matrix objects.  See about them at http://docs.scipy.org/doc/scipy-0.14.0/reference/generated/scipy.sparse.csr_matrix.html.  "
   ]
  },
  {
   "cell_type": "code",
   "execution_count": 186,
   "metadata": {
    "colab": {},
    "colab_type": "code",
    "id": "LyVwk5RvFsxn"
   },
   "outputs": [
    {
     "name": "stdout",
     "output_type": "stream",
     "text": [
      "Part 1: BASE CountVectorizer\n",
      "What is the size of the vocabulary?\n",
      "196700\n",
      "\n",
      "What is the average number of non-zero features per example?\n",
      "185.43362831858408 ~= 185\n",
      "\n",
      "What is the fraction of the non-zero entries in the matrix?\n",
      "0.006898829134959785\n",
      "\n",
      "What are the 0th and last feature strings (in alphabetical order)?\n",
      "First: 00 \n",
      "Last: zyxel\n",
      "\n",
      "Part 2: Custom Vocab\n",
      "What is the size of the vocabulary?\n",
      "546\n",
      "\n",
      "What is the average number of non-zero features per example?\n",
      "0.9410029498525073 ~= 1.0\n",
      "\n",
      "Part 3: Bigram and Trigam Character Features\n",
      "What is the size of the vocabulary?\n",
      "1164634\n",
      "\n",
      "Part 4: Prune unigram words that appear in fewer than 10 documents\n",
      "What is the size of the vocabulary?\n",
      "147823\n",
      "\n",
      "Part 5: The fraction of words in the development vocabulary that is missing from the training vocabulary\n",
      "0.6221301474326385\n"
     ]
    }
   ],
   "source": [
    "def P2():\n",
    "    ### STUDENT START ###\n",
    "\n",
    "    #PART 1 -------------\n",
    "    print(\"Part 1: BASE CountVectorizer\")\n",
    "    vectorizer1 = CountVectorizer()\n",
    "    X = vectorizer1.fit_transform(train_data)\n",
    "\n",
    "    #nnz, Get the count of explicitly-stored values (nonzeros)\n",
    "    print(\"What is the size of the vocabulary?\")\n",
    "    print(X.nnz)\n",
    "    print()\n",
    "\n",
    "    #shape, (2-tuple) Shape of the matrix\n",
    "    print(\"What is the average number of non-zero features per example?\")\n",
    "    print(np.sum(np.sum(X.toarray()))/X.shape[0], \"~=\", int(np.sum(np.sum(X.toarray()))/X.shape[0]))  \n",
    "    print()\n",
    "\n",
    "    print(\"What is the fraction of the non-zero entries in the matrix?\")\n",
    "    print(np.sum(np.sum(X.toarray()))/(X.shape[0]*X.shape[1]))    \n",
    "    print()\n",
    "\n",
    "    print(\"What are the 0th and last feature strings (in alphabetical order)?\")      \n",
    "    print(\"First:\", vectorizer.get_feature_names()[0], \"\\nLast:\", vectorizer.get_feature_names()[-1])\n",
    "    print()\n",
    "\n",
    "    #Part 2 -------------\n",
    "    print(\"Part 2: Custom Vocab\")\n",
    "    vocab = {\"atheism\":0, \"graphics\":1, \"space\":2, \"religion\":3}\n",
    "    \n",
    "    vectorizer2 = CountVectorizer(vocabulary = vocab)\n",
    "    X = vectorizer2.transform(train_data)\n",
    "    \n",
    "    #nnz, Get the count of explicitly-stored values (nonzeros)\n",
    "    print(\"What is the size of the vocabulary?\")\n",
    "    print(X.nnz)\n",
    "    print()\n",
    "\n",
    "    \n",
    "    #shape, (2-tuple) Shape of the matrix\n",
    "    print(\"What is the average number of non-zero features per example?\")\n",
    "    print(np.sum(np.sum(X.toarray()))/X.shape[0], \"~=\", round(np.sum(np.sum(X.toarray()))/X.shape[0],0))  \n",
    "    print()\n",
    "\n",
    "    #Part 3 -------------\n",
    "    print(\"Part 3: Bigram and Trigam Character Features\")\n",
    "    vectorizer3 = CountVectorizer(analyzer = 'char_wb', ngram_range = (2, 3))\n",
    "    X = vectorizer3.fit_transform(train_data)\n",
    "    \n",
    "    print(\"What is the size of the vocabulary?\")\n",
    "    print(X.nnz)\n",
    "    print()\n",
    "    \n",
    "    #Part 4 -------------\n",
    "    print(\"Part 4: Prune unigram words that appear in fewer than 10 documents\")\n",
    "    vectorizer4 = CountVectorizer(min_df = 10)\n",
    "    X = vectorizer4.fit_transform(train_data)\n",
    "    \n",
    "    print(\"What is the size of the vocabulary?\")\n",
    "    print(X.nnz)\n",
    "    print()\n",
    "    \n",
    "    #Part 5 -------------    \n",
    "    print(\"Part 5: The fraction of words in the development vocabulary that is missing from the training vocabulary\")\n",
    "    vectorizer5_train = CountVectorizer()\n",
    "    vectorizer5_dev = CountVectorizer()\n",
    "    X = vectorizer5_train.fit_transform(train_data)\n",
    "    Y = vectorizer5_dev.fit_transform(dev_data)\n",
    "    \n",
    "    print(abs((Y.nnz - X.nnz))/X.nnz)\n",
    "    \n",
    "    ### STUDENT END ###\n",
    "\n",
    "P2()"
   ]
  },
  {
   "cell_type": "markdown",
   "metadata": {
    "colab_type": "text",
    "id": "ydjkRh6LFsxp"
   },
   "source": [
    "### Part 3:\n",
    "\n",
    "Transform the training and development data to matrices of word unigram feature vectors.\n",
    "\n",
    "1. Produce several k-Nearest Neigbors models by varying k, including one with k set to optimize f1 score.  For each model, show the k value and f1 score.\n",
    "1. Produce several Naive Bayes models by varying smoothing (alpha), including one with alpha set approximately to optimize f1 score.  For each model, show the alpha value and f1 score.\n",
    "1. Produce several Logistic Regression models by varying L2 regularization strength (C), including one with C set approximately to optimize f1 score.  For each model, show the C value, f1 score, and sum of squared weights for each topic.\n",
    "\n",
    "* Why doesn't k-Nearest Neighbors work well for this problem?\n",
    "* Why doesn't Logistic Regression work as well as Naive Bayes does?\n",
    "* What is the relationship between logistic regression's sum of squared weights vs. C value?\n",
    "\n",
    "Notes:\n",
    "* Train on the transformed training data.\n",
    "* Evaluate on the transformed development data.\n",
    "* You can use `CountVectorizer` and its `.fit_transform` and `.transform` methods to transform data.\n",
    "* You can use `KNeighborsClassifier(...)` to produce a k-Nearest Neighbors model.\n",
    "* You can use `MultinomialNB(...)` to produce a Naive Bayes model.\n",
    "* You can use `LogisticRegression(C=..., solver=\"liblinear\", multi_class=\"auto\")` to produce a Logistic Regression model.\n",
    "* You can use `LogisticRegression`'s `.coef_` method to get weights for each topic.\n",
    "* You can use `metrics.f1_score(..., average=\"weighted\")` to compute f1 score."
   ]
  },
  {
   "cell_type": "markdown",
   "metadata": {},
   "source": [
    "#### Part 3 - 1: KNeighbors"
   ]
  },
  {
   "cell_type": "code",
   "execution_count": 95,
   "metadata": {
    "colab": {},
    "colab_type": "code",
    "id": "VvhpODdWFsxp"
   },
   "outputs": [
    {
     "name": "stdout",
     "output_type": "stream",
     "text": [
      "Rough pass over the following K values:  [1.0, 11.0, 21.0, 31.0, 41.0, 51.0, 61.0, 71.0, 81.0, 91.0, 101.0, 111.0, 121.0, 131.0, 141.0, 151.0, 161.0, 100.0, 150.0, 200.0, 250.0, 300.0, 350.0, 400.0, 450.0]\n",
      "Maximum F1-Score: 0.44351701732635396 around K = 121.0\n"
     ]
    },
    {
     "data": {
      "image/png": "[encoded data removed]",
      "text/plain": [
       "<Figure size 720x432 with 1 Axes>"
      ]
     },
     "metadata": {
      "needs_background": "light"
     },
     "output_type": "display_data"
    },
    {
     "name": "stdout",
     "output_type": "stream",
     "text": [
      "Fine pass over the following K values:  range(118, 126)\n",
      "calculating F1 score at: \n",
      "k=118, k=119, k=120, k=121, k=122, k=123, k=124, k=125, Fine Pass: Maximum F1-Score: 0.4713168466403966 at K = 122\n"
     ]
    },
    {
     "data": {
      "image/png": "[encoded data removed]",
      "text/plain": [
       "<Figure size 720x432 with 1 Axes>"
      ]
     },
     "metadata": {
      "needs_background": "light"
     },
     "output_type": "display_data"
    }
   ],
   "source": [
    "%matplotlib inline\n",
    "\n",
    "def P3_1():\n",
    "    ### STUDENT START ###\n",
    "    \n",
    "    #transform the text features\n",
    "    vectorizer = CountVectorizer()\n",
    "    train_data_transformed = vectorizer.fit_transform(train_data).toarray()\n",
    "    test_data_transformed = vectorizer.transform(test_data).toarray()\n",
    "    \n",
    "    #---------------------------------#\n",
    "\n",
    "    #PART 1:\n",
    "    \n",
    "    #Rough Pass - previously run results and saved to output folder to reduce computation time. See Finer Pass code  for algorithm used.\n",
    "    #import and concatenate two k ranges that were found to have local maximums for f1 score\n",
    "    range_imp_0 = list(np.loadtxt('outputs/project2_part3_krange k_max-161.out'))\n",
    "    range_imp_1 = list(np.loadtxt('outputs/project2_part3_krange k_max-450.out'))\n",
    "    range_imp = range_imp_0 + range_imp_1\n",
    "    \n",
    "    #import and concatenate the corresponding f1 scores\n",
    "    f1_score_imp_0 = list(np.loadtxt('outputs/project2_part3_optF1_score k_max-161.out'))\n",
    "    f1_score_imp_1 = list(np.loadtxt('outputs/project2_part3_optF1_score k_max-450.out'))\n",
    "    f1_score_imp = f1_score_imp_0 + f1_score_imp_1\n",
    "    \n",
    "    #create a 2 column numpy array from the imported k range and corresponding f1 score\n",
    "    f1_np_imp = np.array([range_imp, f1_score_imp])\n",
    "\n",
    "    # Sort 2D numpy array by 0th Row\n",
    "    f1_np_imp_sorted = f1_np_imp[ :, f1_np_imp[0].argsort()]\n",
    "\n",
    "    #plot the np array\n",
    "    plt.figure(figsize=(10,6))\n",
    "    plt.plot(f1_np_imp_sorted[0], f1_np_imp_sorted[1],color='blue', linestyle='dashed', \n",
    "             marker='o',markerfacecolor='red', markersize=10)\n",
    "    plt.title('Rough Pass: F1-Score vs. K Value')\n",
    "    plt.xlabel('K')\n",
    "    plt.ylabel('F1-Score')\n",
    "    print(\"Rough pass over the following K values: \", range_imp)\n",
    "    print(\"Rough pass maximum F1-Score:\",max(f1_score_imp),\n",
    "          \"around K =\",range_imp[f1_score_imp.index(max(f1_score_imp))])\n",
    "    plt.show()\n",
    "    \n",
    "    \n",
    "    #---------------------------------#\n",
    "    \n",
    "    #Part 2:\n",
    "    \n",
    "    #Fine Pass - previously ran with a larger step save and saved results as 'rough pass'\n",
    "    \n",
    "    #initialize an empty list to store f1 scores for various k values\n",
    "    f1_score_kneigh = []\n",
    "    \n",
    "    #create the fine pass k range from the rough pass local maximum\n",
    "    step = 1\n",
    "    k_range_i = range(118,126,step)\n",
    "    \n",
    "    print(\"Fine pass over the following K values: \", k_range_i)\n",
    "    print(\"calculating F1 score at: \")\n",
    "    \n",
    "    #loop over the k-range\n",
    "    for i in k_range_i:\n",
    "        print(\"k=\", i,sep = \"\", end = \", \")\n",
    "        #create a K nearest neighbor model\n",
    "        neigh = KNeighborsClassifier(n_neighbors=i)\n",
    "        \n",
    "        #fit the transformed training data\n",
    "        neigh.fit(train_data_transformed, train_labels)\n",
    "        \n",
    "        #predict the test values from the k nearest neighbor model\n",
    "        test_data_pred = neigh.predict(test_data_transformed)\n",
    "        \n",
    "        #calculate the f1 score\n",
    "        f1_score_kneigh.append(metrics.f1_score(test_labels, test_data_pred, average=\"weighted\"))\n",
    "\n",
    "    \n",
    "    #Plot the results from the loop\n",
    "    plt.figure(figsize=(10,6))\n",
    "    plt.plot(k_range_i, f1_score_kneigh, color='blue', linestyle='dashed', \n",
    "             marker='o', markerfacecolor='red', markersize=10)\n",
    "    plt.title('F1-Score vs. K Value')\n",
    "    plt.xlabel('K')\n",
    "    plt.ylabel('F1-Score')\n",
    "    \n",
    "    print()\n",
    "    print(\"Fine pass maximum F1-Score:\",max(f1_score_kneigh),\n",
    "          \"at K =\",k_range_i[f1_score_kneigh.index(max(f1_score_kneigh))])\n",
    "    \n",
    "    #save results to an output folder. This step is where the Rough pass data came from\n",
    "    out_txt = 'outputs/project2_part3_optF1_score' + ' k_max-' + str(max(k_range_i)) + '.out'\n",
    "    np.savetxt(out_txt, f1_score_kneigh, delimiter=',')\n",
    "    range_txt = 'outputs/project2_part3_krange' + ' k_max-' + str(max(k_range_i)) + '.out'\n",
    "    np.savetxt(range_txt, k_range_i, delimiter=',')\n",
    "\n",
    "    ### STUDENT END ###\n",
    "\n",
    "P3_1()"
   ]
  },
  {
   "cell_type": "markdown",
   "metadata": {},
   "source": [
    "#### Part 3 - 2: Naive Bayes\n"
   ]
  },
  {
   "cell_type": "code",
   "execution_count": 96,
   "metadata": {},
   "outputs": [
    {
     "name": "stderr",
     "output_type": "stream",
     "text": [
      "/Users/ls_enel/opt/anaconda3/lib/python3.8/site-packages/sklearn/naive_bayes.py:511: UserWarning: alpha too small will result in numeric errors, setting alpha = 1.0e-10\n",
      "  warnings.warn('alpha too small will result in numeric errors, '\n"
     ]
    },
    {
     "name": "stdout",
     "output_type": "stream",
     "text": [
      "Maximum F1-Score: 0.7597200053010889 at K = 1.0\n"
     ]
    },
    {
     "name": "stderr",
     "output_type": "stream",
     "text": [
      "/Users/ls_enel/opt/anaconda3/lib/python3.8/site-packages/sklearn/naive_bayes.py:511: UserWarning: alpha too small will result in numeric errors, setting alpha = 1.0e-10\n",
      "  warnings.warn('alpha too small will result in numeric errors, '\n"
     ]
    },
    {
     "name": "stdout",
     "output_type": "stream",
     "text": [
      "Maximum F1-Score: 0.783690801367712 at Alpha = 0.2\n"
     ]
    },
    {
     "data": {
      "image/png": "[encoded data removed]",
      "text/plain": [
       "<Figure size 720x432 with 1 Axes>"
      ]
     },
     "metadata": {
      "needs_background": "light"
     },
     "output_type": "display_data"
    },
    {
     "data": {
      "image/png": "[encoded data removed]",
      "text/plain": [
       "<Figure size 720x432 with 1 Axes>"
      ]
     },
     "metadata": {
      "needs_background": "light"
     },
     "output_type": "display_data"
    }
   ],
   "source": [
    "def P3_2():\n",
    "    #transform the text features\n",
    "    vectorizer = CountVectorizer()\n",
    "    train_data_transformed = vectorizer.fit_transform(train_data).toarray()\n",
    "    test_data_transformed = vectorizer.transform(test_data).toarray()\n",
    "    \n",
    "    #Rough Pass - this model runs much faster than k-nearest neighbors so I didn't save results to an output folder\n",
    "    \n",
    "    #Initialize list to store NB f1 scores\n",
    "    f1_score_NB = []\n",
    "    step = 1\n",
    "    alpha_range_i = np.arange(0.0, 100, 5)\n",
    "    \n",
    "    #loop over alpha values for NB\n",
    "    for i in alpha_range_i:\n",
    "        #create a NB model\n",
    "        NB = MultinomialNB(alpha=i)\n",
    "        \n",
    "        #fit the transformed data\n",
    "        NB.fit(train_data_transformed, train_labels)\n",
    "        \n",
    "        #predict the label for the test data and store the results\n",
    "        test_data_pred = NB.predict(test_data_transformed)\n",
    "        f1_score_NB.append(metrics.f1_score(test_labels, test_data_pred,average=\"weighted\"))\n",
    "    \n",
    "    #Plot the results of the rough pass\n",
    "    plt.figure(figsize=(10,6))\n",
    "    plt.plot(alpha_range_i,f1_score_NB,color='red', linestyle='dashed', \n",
    "             marker='o',markerfacecolor='blue', markersize=10)\n",
    "    plt.title('Rough Pass: F1-Score vs. Alpha (Smoothing) Value')\n",
    "    plt.xlabel('Alpha')\n",
    "    plt.ylabel('F1-Score')\n",
    "    plt.show()\n",
    "    print(\"Rough pass Maximum F1-Score:\",max(f1_score_NB),\n",
    "          \"at K =\",alpha_range_i[f1_score_NB.index(max(f1_score_NB))]+step)\n",
    "\n",
    "    #Finer Pass - loop over local maximum from rough pass and plot results\n",
    "    f1_score_NB = []\n",
    "    step = 0.05\n",
    "    alpha_range_i = np.arange(0.0, 1, step)\n",
    "    for i in alpha_range_i:\n",
    "        NB = MultinomialNB(alpha=i)\n",
    "        NB.fit(train_data_transformed, train_labels)\n",
    "        test_data_pred = NB.predict(test_data_transformed)\n",
    "        f1_score_NB.append(metrics.f1_score(test_labels, test_data_pred, average=\"weighted\"))\n",
    "\n",
    "    plt.figure(figsize=(10,6))\n",
    "    plt.plot(alpha_range_i,f1_score_NB,color='red', linestyle='dashed', \n",
    "             marker='o',markerfacecolor='blue', markersize=10)\n",
    "    plt.title('F1-Score vs. Alpha (Smoothing) Value')\n",
    "    plt.xlabel('Alpha')\n",
    "    plt.ylabel('F1-Score')\n",
    "    print(\"Fine pass Maximum F1-Score:\",max(f1_score_NB),\n",
    "          \"at Alpha =\",alpha_range_i[f1_score_NB.index(max(f1_score_NB))])\n",
    "\n",
    "    \n",
    "P3_2()"
   ]
  },
  {
   "cell_type": "markdown",
   "metadata": {},
   "source": [
    "#### Part 3-3: "
   ]
  },
  {
   "cell_type": "code",
   "execution_count": 97,
   "metadata": {},
   "outputs": [
    {
     "name": "stdout",
     "output_type": "stream",
     "text": [
      "0.01, 0.02, 0.03, 0.04, 0.05, 0.06, 0.07, 0.08, 0.09, 0.1, 0.11, 0.12, 0.13, 0.14, 0.15, 0.16, 0.17, 0.18, 0.19, 0.2, 0.21, 0.22, 0.23, 0.24, 0.25, 0.26, 0.27, 0.28, 0.29, 0.3, 0.31, 0.32, 0.33, 0.34, 0.35, 0.36, 0.37, 0.38, 0.39, 0.4, 0.41, 0.42, 0.43, 0.44, 0.45, 0.46, 0.47, 0.48, 0.49, 0.5, 0.51, 0.52, 0.53, 0.54, 0.55, 0.56, 0.57, 0.58, 0.59, 0.6, 0.61, 0.62, 0.63, 0.64, 0.65, 0.66, 0.67, 0.68, 0.69, 0.7, 0.71, 0.72, 0.73, 0.74, 0.75, 0.76, 0.77, 0.78, 0.79, 0.8, 0.81, 0.82, 0.83, 0.84, 0.85, 0.86, 0.87, 0.88, 0.89, 0.9, 0.91, 0.92, 0.93, 0.94, 0.95, 0.96, 0.97, 0.98, 0.99, \n",
      "Maximum F1-Score: 0.7490304976136087 at C = 0.39\n"
     ]
    },
    {
     "data": {
      "text/plain": [
       "<Figure size 864x576 with 0 Axes>"
      ]
     },
     "metadata": {},
     "output_type": "display_data"
    },
    {
     "data": {
      "image/png": "[encoded data removed]",
      "text/plain": [
       "<Figure size 432x288 with 2 Axes>"
      ]
     },
     "metadata": {
      "needs_background": "light"
     },
     "output_type": "display_data"
    }
   ],
   "source": [
    "def P3_3():\n",
    "    #transform the text features\n",
    "    vectorizer = CountVectorizer()\n",
    "    train_data_transformed = vectorizer.fit_transform(train_data).toarray()\n",
    "    test_data_transformed = vectorizer.transform(test_data).toarray()\n",
    "    \n",
    "    #F1 score continously decreased beyond c = 1 so I only ran a fine pass plot over c from 0 to 1\n",
    "    \n",
    "    #Initialize list to store logistic regression f1 scores\n",
    "    f1_score_LR = []\n",
    "    weights_LR = []\n",
    "    step = 0.01\n",
    "    c_range_i = np.arange(0.01, 1, step)\n",
    "    \n",
    "    #loop over varius regulation strengths (c)\n",
    "    print(\"Calculating the F1 score for the following regularization strenghts:\", c_range_i)\n",
    "    for i in c_range_i:\n",
    "        print(round(i,3), end=\", \")\n",
    "        #create, fit, and predict the logistic regression model using the transformed training and test data\n",
    "        LogisReg = LogisticRegression(C=i, solver=\"liblinear\", multi_class=\"auto\")\n",
    "        LogisReg.fit(train_data_transformed, train_labels)\n",
    "        test_data_pred_LR = LogisReg.predict(test_data_transformed)\n",
    "        \n",
    "        #append to the f1 score list\n",
    "        f1_score_LR.append(metrics.f1_score(test_labels, test_data_pred_LR, average=\"weighted\"))\n",
    "        \n",
    "        #calculate the sum of square weights and append the the weights list\n",
    "        ssq = np.sum(LogisReg.coef_**2)\n",
    "        weights_LR.append(ssq)\n",
    "\n",
    "    print()\n",
    "    print(\"Maximum F1-Score:\",max(f1_score_LR),\n",
    "          \"at C =\",c_range_i[f1_score_LR.index(max(f1_score_LR))])\n",
    "\n",
    "    #plot a two y axis figure of f1 score and sum of squared wegihts\n",
    "    plt.figure(figsize=(12,8))\n",
    "    fig, ax1 = plt.subplots()\n",
    "\n",
    "    ax2 = ax1.twinx()\n",
    "    ax1.plot(c_range_i, f1_score_LR, color='red', linestyle='dashed', \n",
    "             marker='o',markerfacecolor='red', markersize=10)\n",
    "    ax2.plot(c_range_i, weights_LR, color='blue', linestyle='solid', \n",
    "             marker='*',markerfacecolor='blue', markersize=10)\n",
    "\n",
    "    plt.title('F1-Score vs. Regularization Strength (C)')\n",
    "    ax1.set_xlabel('Regularization Strength (C) Value')\n",
    "    ax1.set_ylabel('F1-Score', color='red')\n",
    "    ax2.set_ylabel('Sum of Squared Weights', color='blue')\n",
    "\n",
    "    plt.show()\n",
    "\n",
    "P3_3()"
   ]
  },
  {
   "cell_type": "markdown",
   "metadata": {
    "colab_type": "text",
    "id": "jWtXwAlOFsxr"
   },
   "source": [
    "ANSWER:\n",
    "* Why doesn't k-Nearest Neighbors work well for this problem?\n",
    "\n",
    "    Time wise: k-Nearest Neighbors takes the longest to run as it has to recalculate the distance between the observation of interest and the rest of the training data observations\n",
    "\n",
    "    Accuracy wise: k-Nearest Neighbors has the lowest F1 score of the three algorithms. Proper scaling should be provided for fair treatment among features however this is not done when counting features with the CountVectorizer() method. The distance function is also more ambiguous for text count features than it would be for a parametric model like Logistic regression.\n",
    "\n",
    "\n",
    "* Why doesn't Logistic Regression work as well as Naive Bayes does?\n",
    "\n",
    "    Even with the assumption of indepent features (which is not true for sequentially dependent text based features), the Naive Bayes model outperforms LR. This is because NB's approach of counting the frequency of features (i.e. words) and determening the information gain via bayesian probability of sequential feature outcomes is well suited for text classification problems. Logistic Regression meanwhile is better suited for handling numeric data as its general approach seeks to fit a regression function to the input training data and then use a tuneable cutoff to determine a discrete label outcome for any test data. Given the difficulty of determing a sensible regression to something like text occurance from a sparse document, LR has a harder time classifying results, even after optimizing for the best regularization strength.\n",
    "    \n",
    "* What is the relationship between logistic regression's sum of squared weights vs. C value?\n",
    "\n",
    "    They have an relatively colinear relationship."
   ]
  },
  {
   "cell_type": "markdown",
   "metadata": {
    "colab_type": "text",
    "id": "dGEjsm_uFsxr"
   },
   "source": [
    "### Part 4:\n",
    "\n",
    "Transform the data to a matrix of word **bigram** feature vectors.  Produce a Logistic Regression model.  For each topic, find the 5 features with the largest weights (that's 20 features in total).  Show a 20 row (features) x 4 column (topics) table of the weights.\n",
    "\n",
    "Do you see any surprising features in this table?\n",
    "\n",
    "Notes:\n",
    "* Train on the transformed training data.\n",
    "* You can use `CountVectorizer` and its `.fit_transform` method to transform data.\n",
    "* You can use `LogisticRegression(C=0.5, solver=\"liblinear\", multi_class=\"auto\")` to produce a Logistic Regression model.\n",
    "* You can use `LogisticRegression`'s `.coef_` method to get weights for each topic.\n",
    "* You can use `np.argsort` to get indices sorted by element value. "
   ]
  },
  {
   "cell_type": "code",
   "execution_count": 110,
   "metadata": {
    "colab": {},
    "colab_type": "code",
    "id": "WN51Nv4fFsxs"
   },
   "outputs": [
    {
     "name": "stdout",
     "output_type": "stream",
     "text": [
      "labels name order: ['alt.atheism', 'comp.graphics', 'sci.space', 'talk.religion.misc']\n",
      "\n",
      "top weighted features:\n",
      "['graphics', 'atheists', 'bobby', 'christians', 'religion', 'christian', 'blood', 'atheism', 'deletion', 'fbi', 'image', 'file', '3d', 'computer', 'space', 'orbit', 'order', 'nasa', 'launch', 'spacecraft']\n",
      "\n",
      "corresponding weightes by label name:\n",
      "All:\n",
      "[[0.   0.79 0.83 0.   0.82 0.   0.   0.   0.72 0.   0.   0.   0.   0.\n",
      "  0.   0.   0.   0.8  0.   0.  ]\n",
      " [0.94 0.   0.   0.   0.   0.   0.   0.84 0.   0.   1.06 1.63 1.12 0.\n",
      "  0.   0.   0.   0.   0.   0.  ]\n",
      " [0.   0.   0.   0.   0.   0.   0.   0.   0.   0.   0.   0.   0.   0.78\n",
      "  0.85 1.01 0.   0.   1.86 0.74]\n",
      " [0.   0.   0.   0.85 0.   0.93 0.93 0.   0.   0.75 0.   0.   0.   0.\n",
      "  0.   0.   0.74 0.   0.   0.  ]]\n",
      "\n",
      "By label with zero weights removed:\n",
      "alt.atheism\n",
      "['atheists', 'bobby', 'religion', 'atheism', 'deletion']\n",
      "[0.79 0.83 0.82 0.72 0.8 ]\n",
      "\n",
      "comp.graphics\n",
      "['graphics', 'image', 'file', '3d', 'computer']\n",
      "[0.94 0.84 1.06 1.63 1.12]\n",
      "\n",
      "sci.space\n",
      "['space', 'orbit', 'nasa', 'launch', 'spacecraft']\n",
      "[0.78 0.85 1.01 1.86 0.74]\n",
      "\n",
      "talk.religion.misc\n",
      "['christians', 'christian', 'blood', 'fbi', 'order']\n",
      "[0.85 0.93 0.93 0.75 0.74]\n",
      "\n"
     ]
    }
   ],
   "source": [
    "def P4():\n",
    "    ### STUDENT START ###\n",
    "    \n",
    "    #change numpy printing settings for easier reading of results\n",
    "    # print_thresh = np.get_printoptions(threshold)\n",
    "    np.set_printoptions(threshold=np.inf)\n",
    "\n",
    "    #print the label names\n",
    "    print('labels name order:',newsgroups_train.target_names)\n",
    "\n",
    "    #transform the text features\n",
    "    vectorizer4 = CountVectorizer()\n",
    "    train_data_transformed4 = vectorizer4.fit_transform(train_data).toarray()\n",
    "\n",
    "    #fit a logistic regression function to the transformed training data\n",
    "    LogisReg4 = LogisticRegression(C=0.5, solver=\"liblinear\", multi_class=\"auto\")\n",
    "    LogisReg4.fit(train_data_transformed4, train_labels)\n",
    "\n",
    "    #find the top 5 weighted feature per topic and their location in the array\n",
    "    LogisReg4_weights = LogisReg4.coef_\n",
    "    top5_weights_per_topic = []\n",
    "    top5_indexloc_per_topic = []\n",
    "    for topic in LogisReg4_weights:\n",
    "        top_5_tmp_loc = np.argsort(topic)[::-1][0:5]\n",
    "        top5_weights_per_topic.append(topic[top_5_tmp_loc])\n",
    "        top5_indexloc_per_topic.append(top_5_tmp_loc)\n",
    "\n",
    "    #convert the list to a np array\n",
    "    top5_weights_per_topic = np.array(top5_weights_per_topic)\n",
    "    top5_indexloc_per_topic = np.array(top5_indexloc_per_topic)\n",
    "\n",
    "    #initialize a data frame and array to store \n",
    "    bigram = np.zeros((LogisReg4_weights.shape))\n",
    "    bigram_names = []\n",
    "\n",
    "    #loop over the top 5 weighted geatures and using the transformed vectorizer class, determine their names\n",
    "    #loop over the topics\n",
    "    for row, topic in enumerate(top5_indexloc_per_topic):\n",
    "        names_tmp = []\n",
    "        #loop over the features in each topic and using the weighted index location, determine the feature name\n",
    "        for i, index_loc in enumerate(topic):\n",
    "            bigram[row, index_loc] = top5_weights_per_topic[row, i]\n",
    "            names_tmp.append(vectorizer4.get_feature_names()[index_loc])\n",
    "        bigram_names.append(names_tmp)\n",
    "\n",
    "    #reduce the dataframe size by deleting features that occur in at least one of the four categories\n",
    "    idx = np.argwhere(np.all(bigram[..., :] == 0.0, axis=0))\n",
    "    bigram2 = np.delete(bigram, idx, axis=1)\n",
    "    \n",
    "    bigram2_names = []\n",
    "    for j in range(len(bigram2)):\n",
    "        topic = bigram2[j]\n",
    "        counter = 0 \n",
    "        for i in range(len(topic)):\n",
    "            if topic[i] > 0:\n",
    "                bigram2_names.insert(i, bigram_names[j][counter])\n",
    "                counter += 1\n",
    "    print()\n",
    "    print(\"top weighted features:\\n\", bigram2_names, sep = \"\", end = \"\\n\\n\")        \n",
    "    print(\"corresponding weightes by label name:\\nAll:\\n\", np.array_str(bigram2, precision=2, suppress_small=True), sep = \"\")\n",
    "    print()\n",
    "\n",
    "    \n",
    "    #print the top results by label (i.e. remove zero weighted features for each label)\n",
    "    print(\"By label with zero weights removed:\")\n",
    "    for i in range(4):\n",
    "        print(newsgroups_train.target_names[i])\n",
    "        print(bigram_names[i])\n",
    "        print(np.array_str(bigram2[i][bigram2[i]>0], precision=2, suppress_small=True))\n",
    "        print()\n",
    "\n",
    "    #reset np print options\n",
    "    np.set_printoptions()\n",
    "\n",
    "    \n",
    "    ### STUDENT END ###\n",
    "\n",
    "P4()"
   ]
  },
  {
   "cell_type": "markdown",
   "metadata": {
    "colab_type": "text",
    "id": "cY67F-tXFsxt"
   },
   "source": [
    "ANSWER:\n",
    "I'm surprised to see 'bobby' and 'deletion' appear as a highly weighted feature in atheism topic and similarly 'fbi' and somewhat 'order' in the religion topic.\n"
   ]
  },
  {
   "cell_type": "markdown",
   "metadata": {
    "colab_type": "text",
    "id": "rVWhSJHHFsxu"
   },
   "source": [
    "### Part 5:\n",
    "\n",
    "To improve generalization, it is common to try preprocessing text in various ways before splitting into words. For example, you could try transforming strings to lower case, replacing sequences of numbers with single tokens, removing various non-letter characters, and shortening long words.\n",
    "\n",
    "Produce a Logistic Regression model (with no preprocessing of text).  Evaluate and show its f1 score and size of the dictionary.\n",
    "\n",
    "Produce an improved Logistic Regression model by preprocessing the text.  Evaluate and show its f1 score and size of the vocabulary.  Try for an improvement in f1 score of at least 0.02.\n",
    "\n",
    "How much did the improved model reduce the vocabulary size?\n",
    "\n",
    "Notes:\n",
    "* Train on the transformed training data.\n",
    "* Evaluate on the transformed development data.\n",
    "* You can use `CountVectorizer(preprocessor=...)` to preprocess strings with your own custom-defined function.\n",
    "* `CountVectorizer` default is to preprocess strings to lower case.\n",
    "* You can use `LogisticRegression(C=0.5, solver=\"liblinear\", multi_class=\"auto\")` to produce a logistic regression model.\n",
    "* You can use `metrics.f1_score(..., average=\"weighted\")` to compute f1 score.\n",
    "* If you're not already familiar with regular expressions for manipulating strings, see https://docs.python.org/2/library/re.html, and re.sub() in particular."
   ]
  },
  {
   "cell_type": "code",
   "execution_count": 114,
   "metadata": {
    "colab": {},
    "colab_type": "code",
    "id": "l7gS3cGpFsxv"
   },
   "outputs": [
    {
     "name": "stdout",
     "output_type": "stream",
     "text": [
      "NOTE: This cell can take up to a minute or two to run\n",
      "\n",
      "Transforming text to features without preprocessing...\n",
      "F1 Score no preproccessing: 0.7091\n",
      "Vocabulary length no preproccessing: 33291\n",
      "\n",
      "\n",
      "Transforming text to features with preprocessing...\n",
      "F1 Score with preproccessing: 0.7362\n",
      "Vocabulary length with preproccessing: 24775\n"
     ]
    }
   ],
   "source": [
    "def better_preprocessor(s):\n",
    "    ### STUDENT START ###\n",
    "\n",
    "    text = s\n",
    "    \n",
    "    text=text.lower() # make everything lowercase\n",
    "    text=re.sub(\"\\\\W\",\" \",text) # remove special chars\n",
    "    text=re.sub(\"\\\\s+(in|the|all|for|and|on)\\\\s+\",\" _connector_ \",text) # normalize certain words\n",
    "\n",
    "    #Remove sequences of numbers and replace with 1 (e.g. 12345 becomes 1)\n",
    "    num = [\"1\", \"2\", \"3\", \"4\", \"5\", \"6\", \"7\", \"8\", \"9\", \"0\"]\n",
    "    i = 0\n",
    "    #use while loops to find sequences of numbers and then replace with a 1\n",
    "    while i < len(text):\n",
    "        char = text[i]\n",
    "        seq = \"\"\n",
    "        j = 1\n",
    "        while char in num:\n",
    "            seq = seq + char\n",
    "            try:\n",
    "                char = text[i + j]\n",
    "                j += 1\n",
    "            except:\n",
    "                break\n",
    "        else:\n",
    "            if seq == \"\": pass\n",
    "            else: text = text.replace(seq, \"1\")\n",
    "        i += 1\n",
    "    return text\n",
    "\n",
    "    ### STUDENT END ###\n",
    "\n",
    "def P5():\n",
    "    ### STUDENT START ###    \n",
    "    \n",
    "    #Part 1. --------------------\n",
    "    print(\"Transforming text to features without preprocessing...\")   \n",
    "\n",
    "    #Turn off default preprocessor to convert to lowercase per instructions from Amit (W207 instructor)\n",
    "    vectorizer5 = CountVectorizer(lowercase = False)\n",
    "\n",
    "    train_data_transformed5 = vectorizer5.fit_transform(train_data).toarray()\n",
    "    test_data_transformed5 = vectorizer5.transform(test_data).toarray()\n",
    "\n",
    "    #Fit the logistic regression model and predict the lablels for the test data. then print some statistics about the results.\n",
    "    LogisReg5 = LogisticRegression(C=0.5, solver=\"liblinear\", multi_class=\"auto\")\n",
    "    LogisReg5.fit(train_data_transformed5, train_labels)\n",
    "    test_data5_pred_LR = LogisReg5.predict(test_data_transformed5)\n",
    "    print(\"F1 Score no preproccessing:\", round(metrics.f1_score(test_labels, test_data5_pred_LR, average=\"weighted\"),4))\n",
    "    print(\"Vocabulary length no preproccessing:\", len(vectorizer5.vocabulary_))\n",
    "\n",
    "    #Part 2. --------------------\n",
    "    #train the new logistic regression model with the custom preproccessor and print statistics about predicted label results\n",
    "    print(\"\\n\\nTransforming text to features with preprocessing...\")    \n",
    "    vectorizer5_2 = CountVectorizer(preprocessor = better_preprocessor)\n",
    "\n",
    "    train_data5_postprocess_transformed = vectorizer5_2.fit_transform(train_data).toarray()\n",
    "    test_data5_postprocess_transformed = vectorizer5_2.transform(test_data).toarray()\n",
    "\n",
    "    LogisReg5_2 = LogisticRegression(C=0.5, solver=\"liblinear\", multi_class=\"auto\")\n",
    "    LogisReg5_2.fit(train_data5_postprocess_transformed, train_labels)\n",
    "    test_data5_pred_LR_2 = LogisReg5_2.predict(test_data5_postprocess_transformed)\n",
    "\n",
    "    print(\"F1 Score with preproccessing:\", round(metrics.f1_score(test_labels, test_data5_pred_LR_2, average=\"weighted\"),4))\n",
    "    print(\"Vocabulary length with preproccessing:\", len(vectorizer5_2.vocabulary_))\n",
    "\n",
    "\n",
    "    ### STUDENT END ###\n",
    "\n",
    "P5()"
   ]
  },
  {
   "cell_type": "markdown",
   "metadata": {},
   "source": [
    "\n",
    "\n",
    "#### How much did the improved model reduce the vocabulary size?\n",
    "\n",
    "* the vocabulary size was reduced by over 8500 words"
   ]
  },
  {
   "cell_type": "markdown",
   "metadata": {
    "colab_type": "text",
    "id": "Uy-WITbNFsxw"
   },
   "source": [
    "### Part 6:\n",
    "\n",
    "The idea of regularization is to avoid learning very large weights (which are likely to fit the training data, but not generalize well) by adding a penalty to the total size of the learned weights. Logistic regression seeks the set of weights that minimizes errors in the training data AND has a small total size. The default L2 regularization computes this size as the sum of the squared weights (as in Part 3 above). L1 regularization computes this size as the sum of the absolute values of the weights. Whereas L2 regularization makes all the weights relatively small, L1 regularization drives many of the weights to 0, effectively removing unimportant features.\n",
    "\n",
    "For several L1 regularization strengths ...<br/>\n",
    "* Produce a Logistic Regression model using the **L1** regularization strength.  Reduce the vocabulary to only those features that have at least one non-zero weight among the four categories.  Produce a new Logistic Regression model using the reduced vocabulary and **L2** regularization strength of 0.5.  Evaluate and show the L1 regularization strength, vocabulary size, and f1 score associated with the new model.\n",
    "\n",
    "Show a plot of f1 score vs. log vocabulary size.  Each point corresponds to a specific L1 regularization strength used to reduce the vocabulary.\n",
    "\n",
    "How does performance of the models based on reduced vocabularies compare to that of a model based on the full vocabulary?\n",
    "\n",
    "Notes:\n",
    "* Train on the transformed training data.\n",
    "* Evaluate on the transformed development data.\n",
    "* You can use `LogisticRegression(..., penalty=\"l1\")` to produce a logistic regression model using L1 regularization.\n",
    "* You can use `LogisticRegression(..., penalty=\"l2\")` to produce a logistic regression model using L2 regularization.\n",
    "* You can use `LogisticRegression(..., tol=0.015)` to produce a logistic regression model using relaxed gradient descent convergence criteria.  The gradient descent code that trains the logistic regression model sometimes has trouble converging with extreme settings of the C parameter. Relax the convergence criteria by setting tol=.015 (the default is .0001)."
   ]
  },
  {
   "cell_type": "code",
   "execution_count": 170,
   "metadata": {
    "colab": {},
    "colab_type": "code",
    "id": "l6ho31SrFsxx"
   },
   "outputs": [
    {
     "name": "stdout",
     "output_type": "stream",
     "text": [
      "\n",
      "Maximum F1-Score: 0.7488243788049423 at C = 100\n",
      "\n"
     ]
    },
    {
     "data": {
      "text/plain": [
       "<Figure size 864x576 with 0 Axes>"
      ]
     },
     "metadata": {},
     "output_type": "display_data"
    },
    {
     "data": {
      "image/png": "[encoded data removed]",
      "text/plain": [
       "<Figure size 432x288 with 2 Axes>"
      ]
     },
     "metadata": {
      "needs_background": "light"
     },
     "output_type": "display_data"
    },
    {
     "data": {
      "text/plain": [
       "<Figure size 864x576 with 0 Axes>"
      ]
     },
     "metadata": {},
     "output_type": "display_data"
    },
    {
     "data": {
      "image/png": "[encoded data removed]",
      "text/plain": [
       "<Figure size 720x432 with 1 Axes>"
      ]
     },
     "metadata": {
      "needs_background": "light"
     },
     "output_type": "display_data"
    }
   ],
   "source": [
    "def P6():\n",
    "    ### STUDENT START ###\n",
    "\n",
    "    # Keep this random seed here to make comparison easier.\n",
    "    np.random.seed(0)\n",
    "\n",
    "    #transform the text features\n",
    "    vectorizer = CountVectorizer()\n",
    "    train_data_transformed = vectorizer.fit_transform(train_data).toarray()\n",
    "    test_data_transformed = vectorizer.transform(test_data).toarray()\n",
    "\n",
    "    #Loop over different regularization strengths and pring the F1 score for a logistic regression model\n",
    "    f1_score_LR = []\n",
    "    vocab_size = []\n",
    "    step = 0.5\n",
    "    \n",
    "    c_range_i = [0.5, 1, 2, 5, 10, 50, 100, 500]#, 1000, 10000, 50000, 100000]\n",
    "        \n",
    "    #fit the logistic regression model and determine the sum of the weights\n",
    "    for i in c_range_i:\n",
    "        #find weights for the L1 logistic regression model\n",
    "        LogisRegL1 = LogisticRegression(C=i, solver=\"liblinear\", multi_class=\"auto\", penalty = \"l1\", tol=0.015)\n",
    "        LogisRegL1.fit(train_data_transformed, train_labels)\n",
    "        weight_sum = np.sum(LogisRegL1.coef_, axis = 0)\n",
    "\n",
    "        # find the index location where the sum of the weights is nonzero and turn into a np array\n",
    "        idx = np.where(weight_sum != 0)[0]\n",
    "        \n",
    "        # filter the training and test data to these nonzero weights\n",
    "        train_data_transformed2 = train_data_transformed[:, idx]\n",
    "        test_data_transformed2 = test_data_transformed[:, idx]\n",
    "\n",
    "        # use the new filter test and train data for a L2 logistic regression model\n",
    "        LogisRegL2 = LogisticRegression(C=0.5, solver=\"liblinear\", multi_class=\"auto\", penalty = \"l2\", tol=0.015)\n",
    "        LogisRegL2.fit(train_data_transformed2, train_labels)    \n",
    "\n",
    "        #calculate f1 score and vocab size\n",
    "        test_data_pred_LR = LogisRegL2.predict(test_data_transformed2)\n",
    "        f1_score_LR.append(metrics.f1_score(test_labels, test_data_pred_LR, average=\"weighted\"))\n",
    "        vocab_size.append(idx.shape[0])\n",
    "\n",
    "\n",
    "    print()\n",
    "    print(\"Maximum F1-Score:\",max(f1_score_LR),\n",
    "          \"at C =\",c_range_i[f1_score_LR.index(max(f1_score_LR))])\n",
    "    print()\n",
    "\n",
    "    #print two y axis results for the f1 score and vocab size by regualrixation strength\n",
    "    plt.figure(figsize=(12,8))\n",
    "    fig, ax1 = plt.subplots()\n",
    "\n",
    "    ax2 = ax1.twinx()\n",
    "    ax1.plot(c_range_i, f1_score_LR, color='red', linestyle='dashed', \n",
    "             marker='o',markerfacecolor='red', markersize=10)\n",
    "    ax2.plot(c_range_i, vocab_size, color='blue', linestyle='solid', \n",
    "             marker='*',markerfacecolor='blue', markersize=10)\n",
    "\n",
    "    plt.title('L2 F1-Score vs. L1 Regularization Strength (C)')\n",
    "    ax1.set_xlabel('L1 Regularization Strength (C) Value')\n",
    "    ax1.set_ylabel('L2 F1-Score', color='red')\n",
    "    ax2.set_ylabel('L2 Vocabulary Size', color='blue')\n",
    "    plt.show()\n",
    "    \n",
    "    plt.figure(figsize=(12,8))\n",
    "\n",
    "    vocab_size_log = np.log(vocab_size)\n",
    "\n",
    "    plt.figure(figsize=(10,6))\n",
    "    plt.plot(vocab_size_log, f1_score_LR, color='red', linestyle='dashed', \n",
    "             marker='o',markerfacecolor='blue', markersize=10)\n",
    "    plt.title('Log of Vocabulary Size vs F1 score')\n",
    "    plt.xlabel('Log_e of Vocab Size')\n",
    "    plt.ylabel('F1-Score')\n",
    "    \n",
    "\n",
    "\n",
    "\n",
    "    plt.show()\n",
    "\n",
    "    ### STUDENT END ###\n",
    "\n",
    "P6()"
   ]
  },
  {
   "cell_type": "markdown",
   "metadata": {},
   "source": [
    "ANSWER:\n",
    "\n",
    "* How does performance of the models based on reduced vocabularies compare to that of a model based on the full vocabulary?\n",
    "\n",
    "    From part 4, we found that the maximum F1-Score was 0.749 at C = 0.39. Here we see that the F1 score hasn't really changed (i.e. equals 0.749) with the significant reduction vocabulary size (original vocab size ~ 33,000, new optimal ~ 25,000). "
   ]
  },
  {
   "cell_type": "markdown",
   "metadata": {
    "colab_type": "text",
    "id": "QmrHf8AMFsxz"
   },
   "source": [
    "### Part 7:\n",
    "\n",
    "How is `TfidfVectorizer` different than `CountVectorizer`?\n",
    "\n",
    "Produce a Logistic Regression model based on data represented in tf-idf form, with L2 regularization strength of 100.  Evaluate and show the f1 score.  How is `TfidfVectorizer` different than `CountVectorizer`?\n",
    "\n",
    "Show the 3 documents with highest R ratio, where ...<br/>\n",
    "$R\\,ratio = maximum\\,predicted\\,probability \\div predicted\\,probability\\,of\\,correct\\,label$\n",
    "\n",
    "Explain what the R ratio describes.  What kinds of mistakes is the model making? Suggest a way to address one particular issue that you see.\n",
    "\n",
    "Note:\n",
    "* Train on the transformed training data.\n",
    "* Evaluate on the transformed development data.\n",
    "* You can use `TfidfVectorizer` and its `.fit_transform` method to transform data to tf-idf form.\n",
    "* You can use `LogisticRegression(C=100, solver=\"liblinear\", multi_class=\"auto\")` to produce a logistic regression model.\n",
    "* You can use `LogisticRegression`'s `.predict_proba` method to access predicted probabilities."
   ]
  },
  {
   "cell_type": "code",
   "execution_count": 154,
   "metadata": {
    "colab": {},
    "colab_type": "code",
    "id": "8vwU_9t2Fsx0"
   },
   "outputs": [
    {
     "name": "stdout",
     "output_type": "stream",
     "text": [
      "labels name order: ['alt.atheism', 'comp.graphics', 'sci.space', 'talk.religion.misc']\n",
      "R-ratio is incorrect 23.67% of times\n",
      "\n",
      "Top 3 mismatches sorted by R-ratio:\n",
      "[['comp.graphics-talk.religion.misc' '2']\n",
      " ['talk.religion.misc-alt.atheism' '1']]\n",
      "\n",
      "\n",
      "Top 3 R-ratio documents:\n",
      "\n",
      "R-ratio: 929.3581200665905\n",
      "predicted label: comp.graphics\n",
      "predicted label probability: [0.00196563 0.99371994 0.00324517 0.00106925]\n",
      "actual label: talk.religion.misc\n",
      "actual label probability: 0.0010692540599960857\n",
      "document:\n",
      "I am pleased to announce that a *revised version* of _The Easy-to-Read Book\n",
      "of Mormon_ (former title: _Mormon's Book_) by Lynn Matthews Anderson is now\n",
      "available through anonymous ftp (see information below). In addition to the\n",
      "change in title, the revised ETR BOM has been shortened by several pages\n",
      "(eliminating many extraneous \"that's\" and \"of's\"), and many (minor) errors\n",
      "have been corrected. This release includes a simplified Joseph Smith Story,\n",
      "testimonies of the three and eight witnesses, and a \"Words-to-Know\"\n",
      "glossary.\n",
      "\n",
      "As with the previous announcement, readers are reminded that this is a\n",
      "not-for-profit endeavor. This is a copyrighted work, but people are welcome\n",
      "to make *verbatim* copies for personal use. People can recuperate the\n",
      "actual costs of printing (paper, copy center charges), but may not charge\n",
      "anything for their time in making copies, or in any way realize a profit\n",
      "from the use of this book. See the permissions notice in the book itself\n",
      "for the precise terms.\n",
      "\n",
      "Negotiations are currently underway with a Mormon publisher vis-a-vis the\n",
      "printing and distribution of bound books. (Sorry, I'm out of the wire-bound\n",
      "\"first editions.\") I will make another announcement about the availability\n",
      "of printed copies once everything has been worked out.\n",
      "\n",
      "FTP information: connect via anonymous ftp to carnot.itc.cmu.edu, then \"cd\n",
      "pub\" (you won't see anything at all until you do).\n",
      "\n",
      "\"The Easy-to-Read Book of Mormon\" is currently available in postscript and\n",
      "RTF (rich text format). (ASCII, LaTeX, and other versions can be made\n",
      "available; contact dba@andrew.cmu.edu for details.) You should be able to\n",
      "print the postscript file on any postscript printer (such as an Apple\n",
      "Laserwriter); let dba know if you have any difficulties. (The postscript in\n",
      "the last release had problems on some printers; this time it should work\n",
      "better.) RTF is a standard document interchange format that can be read in\n",
      "by a number of word processors, including Microsoft Word for both the\n",
      "Macintosh and Windows. If you don't have a postscript printer, you may be\n",
      "able to use the RTF file to print out a copy of the book.\n",
      "\n",
      "-r--r--r--  1 dba                   1984742 Apr 27 13:12 etrbom.ps\n",
      "-r--r--r--  1 dba                   1209071 Apr 27 13:13 etrbom.rtf\n",
      "\n",
      "For more information about how this project came about, please refer to my\n",
      "article in the current issue of _Sunstone_, entitled \"Delighting in\n",
      "Plainness: Issues Surrounding a Simple Modern English Book of Mormon.\"\n",
      "\n",
      "Send all inquiries and comments to:\n",
      "\n",
      "    Lynn Matthews Anderson\n",
      "    5806 Hampton Street\n",
      "    Pittsburgh, PA 15206\n",
      "\n",
      "------------------\n",
      "\n",
      "R-ratio: 325.00414765732216\n",
      "predicted label: comp.graphics\n",
      "predicted label probability: [0.00291047 0.97974632 0.01432864 0.00301457]\n",
      "actual label: talk.religion.misc\n",
      "actual label probability: 0.0030145656041323655\n",
      "document:\n",
      "Can anyone provide me a ftp site where I can obtain a online version\n",
      "of the Book of Mormon. Please email the internet address if possible.\n",
      "\n",
      "------------------\n",
      "\n",
      "R-ratio: 287.17927958878823\n",
      "predicted label: talk.religion.misc\n",
      "predicted label probability: [0.0024217  0.02007093 0.28204502 0.69546235]\n",
      "actual label: alt.atheism\n",
      "actual label probability: 0.0024217010217239907\n",
      "document:\n",
      "\n",
      "The 24 children were, of course, killed by a lone gunman in a second story\n",
      "window, who fired eight bullets in the space of two seconds...\n",
      "\n",
      "\n",
      "------------------\n",
      "\n"
     ]
    }
   ],
   "source": [
    "def P7():\n",
    "    ### STUDENT START ###\n",
    "    #print the label names\n",
    "    print('labels name order:',newsgroups_train.target_names)\n",
    "\n",
    "    #transform the text features\n",
    "    vectorizer = TfidfVectorizer()\n",
    "    train_data_transformed = vectorizer.fit_transform(train_data).toarray()\n",
    "    dev_data_transformed = vectorizer.transform(dev_data).toarray()\n",
    "\n",
    "    #Create the logistic regression model and predict the labels on the development set\n",
    "    LogisReg_tfid = LogisticRegression(C=100, solver=\"liblinear\", multi_class=\"auto\")\n",
    "    LogisReg_tfid.fit(train_data_transformed, train_labels)\n",
    "    dev_predictions = LogisReg_tfid.predict(dev_data_transformed)\n",
    "\n",
    "    #find the label probabilites per observation (size: observations x number of labels)\n",
    "    pred_prob = LogisReg_tfid.predict_proba(dev_data_transformed)\n",
    "\n",
    "    #create a dictionary that stores the actual label by observation\n",
    "    label_map = {label_name: i for i, label_name in enumerate(LogisReg_tfid.classes_)}\n",
    "\n",
    "    #pull out the predicted probability of the actual label\n",
    "    actual_prob = np.array([\n",
    "       pred_prob[i, label_map[label_name]] for i, label_name in enumerate(dev_labels)\n",
    "    ])\n",
    "\n",
    "    #calculate the R ratio and determine it's accuracy\n",
    "    R_ratio = np.max(pred_prob, axis = 1)/actual_prob\n",
    "    print(\"R-ratio is incorrect \",\n",
    "          round(np.count_nonzero(R_ratio != 1)/R_ratio.shape[0]*100,2),\n",
    "          \"% of times\", sep = \"\", end = \"\\n\\n\")\n",
    "\n",
    "    #determine the top n locations by R_ratio score\n",
    "    n = 3\n",
    "    top_n_tmp_loc = np.argsort(R_ratio)[::-1][0:n].tolist()\n",
    "    top_n_tmp = np.sort(R_ratio)[::-1][0:n].tolist()\n",
    "    \n",
    "    #Look for trends in the errors. loop over the incorrect predictions and determine which pair of labels the model is most likely to get wrong.\n",
    "    predicted_actual = []\n",
    "    for i in top_n_tmp_loc:\n",
    "        predicted_actual.append(str(newsgroups_train.target_names[dev_predictions[i]]) + \n",
    "                                \"-\" +\n",
    "                                str(newsgroups_train.target_names[dev_labels[i]]))\n",
    "    \n",
    "    frequencies = np.asarray(np.unique(predicted_actual, return_counts=True)).T\n",
    "\n",
    "    print(\"Top\", n, \"mismatches sorted by R-ratio:\")\n",
    "    print(frequencies[frequencies[:,1].astype(np.int).argsort()[::-1]])\n",
    "    \n",
    "    #results when n = 100\n",
    "    # [['talk.religion.misc-alt.atheism' '25']\n",
    "    #  ['alt.atheism-talk.religion.misc' '20']\n",
    "    #  ['sci.space-alt.atheism' '15']\n",
    "    #  ['alt.atheism-sci.space' '9']\n",
    "    #  ['comp.graphics-sci.space' '7']\n",
    "    #  ['sci.space-comp.graphics' '6']\n",
    "    #  ['comp.graphics-talk.religion.misc' '6']\n",
    "    #  ['sci.space-talk.religion.misc' '5']\n",
    "    #  ['alt.atheism-comp.graphics' '4']\n",
    "    #  ['talk.religion.misc-sci.space' '2']\n",
    "    #  ['comp.graphics-alt.atheism' '1']]\n",
    "    # seems to mix up religion and atheism the most (i.e. nearly 50%)\n",
    "\n",
    "    #print the predicted label, actual label, \n",
    "    print(\"\\n\\nTop\", n, \"R-ratio documents:\\n\")\n",
    "    for loc, i in enumerate(top_n_tmp_loc):\n",
    "        print('R-ratio:', top_n_tmp[loc])\n",
    "        print('predicted label:', newsgroups_train.target_names[dev_predictions[i]])\n",
    "        print('predicted label probability:', pred_prob[i])\n",
    "        print('actual label:', newsgroups_train.target_names[dev_labels[i]])\n",
    "        print('actual label probability:', actual_prob[i])\n",
    "        print('document:\\n', dev_data[i], sep = \"\")\n",
    "        print('\\n------------------\\n')\n",
    "\n",
    "    \n",
    "    ### STUDENT END ###\n",
    "\n",
    "P7()"
   ]
  },
  {
   "cell_type": "markdown",
   "metadata": {
    "colab_type": "text",
    "id": "bZmIPwExFsx1"
   },
   "source": [
    "ANSWER:\n",
    "\n",
    "* How is `TfidfVectorizer` different than `CountVectorizer`?\n",
    "\n",
    "    TFID stands for the “term frequency – inverse document frequency”. For the TfidVectorizer method, a word's importance by document is based on if it shows up  often within that document and rarely in other documents of the corpus. The tf-formula is the term’s occurences in a document divided by the number of occurences of the most frequent word within that document. The Idf portion represents the inverse of the share of the documents in which the regarded term can be found.\n",
    "    \n",
    "    CountVectorizer meanwhile counts the frequency of all words in our corpus and grabs the most recurring features. As a result, the model may become biased as it can ignore some of the important less frequent features. TFID tries to fix this by trying to capture important features for a given document (the TF portion) even if it does not occur frequently in other documents (the IDF portion)\n",
    "\n",
    "\n",
    "* Explain what the R ratio describes.  What kinds of mistakes is the model making? Suggest a way to address one particular issue that you see.\n",
    "\n",
    "    The R-ratio is the ratio of the highest predicted probability that an observation belongs to a class from the predicted probability observation number x class number array devided by the predicted probability of the correct class from that same array. So when the R-ratio = 1, the highedst predicted probability is correct and when R > 1, it is incorrect. Values >> 1 occurs when the predicted probability has the actuall class probability closer to 0 than to the max predicted probability. The model seems to mix up religion and atheism the most (i.e. when I looked at the top 100 R-ratios, nearly 50% of the mislabled values were between the religion and atheism topics). Perhaps setting up explicit rules to classify the observations as either relgion or aethism if certain words are found my help reduce these errors (e.g. if mormon is stated, classify it as religion). This will likely missclassify some observations by this brute force method but it might help reduce the total number of errors. \n",
    "\n"
   ]
  },
  {
   "cell_type": "markdown",
   "metadata": {
    "colab_type": "text",
    "id": "VmsDxtzoFsx1"
   },
   "source": [
    "### Part 8 EXTRA CREDIT:\n",
    "\n",
    "Produce a Logistic Regression model to implement your suggestion from Part 7."
   ]
  },
  {
   "cell_type": "code",
   "execution_count": 155,
   "metadata": {
    "colab": {},
    "colab_type": "code",
    "id": "ZMaqe8c5Fsx2"
   },
   "outputs": [
    {
     "name": "stdout",
     "output_type": "stream",
     "text": [
      "labels name order: ['alt.atheism', 'comp.graphics', 'sci.space', 'talk.religion.misc']\n",
      "0.010355029585798817\n",
      "0.0\n",
      "R-ratio is incorrect 23.67% of times\n",
      "\n",
      "R-ratio after applying the hard rule is incorrect 23.22% of times\n",
      "\n"
     ]
    }
   ],
   "source": [
    "def P8():\n",
    "    ### STUDENT START ###\n",
    "    #print the label names\n",
    "    print('labels name order:',newsgroups_train.target_names)\n",
    "\n",
    "    #set hard rules\n",
    "    religion_index = []\n",
    "    aethism_index = []\n",
    "    for i, document in enumerate(dev_data):\n",
    "        if \"mormon\" in document.lower():\n",
    "            religion_index.append(1)\n",
    "        \n",
    "        elif \"mormon\" not in document.lower():\n",
    "            religion_index.append(0)\n",
    "        \n",
    "        if \"aethist\" in document.lower() or \"aethism\" in document.lower():\n",
    "            aethism_index.append(1)\n",
    "        \n",
    "        elif \"aethist\" not in document.lower() or \"aethism\" not in document.lower():\n",
    "            aethism_index.append(0)\n",
    "\n",
    "    \n",
    "    religion_index = np.array(religion_index)\n",
    "    print(religion_index.mean())\n",
    "    \n",
    "    aethism_index = np.array(aethism_index)\n",
    "    print(aethism_index.mean())\n",
    "\n",
    "    \n",
    "    #transform the text features\n",
    "    vectorizer = TfidfVectorizer()\n",
    "    train_data_transformed = vectorizer.fit_transform(train_data).toarray()\n",
    "    dev_data_transformed = vectorizer.transform(dev_data).toarray()\n",
    "\n",
    "    #Create the logistic regression model and predict the labels on the development set\n",
    "    LogisReg_tfid = LogisticRegression(C=100, solver=\"liblinear\", multi_class=\"auto\")\n",
    "    LogisReg_tfid.fit(train_data_transformed, train_labels)\n",
    "    dev_predictions = LogisReg_tfid.predict(dev_data_transformed)\n",
    "\n",
    "    #find the label probabilites per observation (size: observations x number of labels)\n",
    "    pred_prob = LogisReg_tfid.predict_proba(dev_data_transformed)\n",
    "\n",
    "    #create a dictionary that stores the actual label by observation\n",
    "    label_map = {label_name: i for i, label_name in enumerate(LogisReg_tfid.classes_)}\n",
    "\n",
    "    #pull out the predicted probability of the actual label\n",
    "    actual_prob = np.array([\n",
    "       pred_prob[i, label_map[label_name]] for i, label_name in enumerate(dev_labels)\n",
    "    ])\n",
    "\n",
    "    #calculate the R ratio and determine it's accuracy\n",
    "    R_ratio = np.max(pred_prob, axis = 1)/actual_prob\n",
    "    print(\"R-ratio is incorrect \",\n",
    "          round(np.count_nonzero(R_ratio != 1)/R_ratio.shape[0]*100,2),\n",
    "          \"% of times\", sep = \"\", end = \"\\n\\n\")\n",
    "    \n",
    "    #apply hard rule\n",
    "    pred_prob_adjusted = pred_prob\n",
    "    for i in range(len(religion_index)):\n",
    "        religion_value = religion_index[i]\n",
    "        aethism_value = aethism_index[i]\n",
    "        \n",
    "        if religion_value == 1:\n",
    "            pred_prob_adjusted[i] = [0, 0, 0, pred_prob[i][3]]\n",
    "        \n",
    "        if aethism_value == 1:\n",
    "            pred_prob_adjusted[i] = [pred_prob[i][0], 0, 0, 0]       \n",
    "    \n",
    "    R_ratio = np.max(pred_prob_adjusted, axis = 1)/actual_prob    \n",
    "    print(\"R-ratio after applying the hard rule is incorrect \",\n",
    "          round(np.count_nonzero(R_ratio != 1)/R_ratio.shape[0]*100,2),\n",
    "          \"% of times\", sep = \"\", end = \"\\n\\n\")\n",
    "    \n",
    "    \n",
    "    ### STUDENT END ###\n",
    "\n",
    "P8()"
   ]
  },
  {
   "cell_type": "markdown",
   "metadata": {},
   "source": [
    "Slight improvement by classifying all mormon documents as religion"
   ]
  },
  {
   "cell_type": "code",
   "execution_count": null,
   "metadata": {},
   "outputs": [],
   "source": []
  }
 ],
 "metadata": {
  "colab": {
   "collapsed_sections": [],
   "name": "firstname_lastname_p2.ipynb",
   "private_outputs": true,
   "provenance": [
    {
     "file_id": "https://github.com/MIDS-W207/Master/blob/master/Projects/firstname_lastname_p2.ipynb",
     "timestamp": 1559779272103
    }
   ],
   "version": "0.3.2"
  },
  "kernelspec": {
   "display_name": "Python 3",
   "language": "python",
   "name": "python3"
  },
  "language_info": {
   "codemirror_mode": {
    "name": "ipython",
    "version": 3
   },
   "file_extension": ".py",
   "mimetype": "text/x-python",
   "name": "python",
   "nbconvert_exporter": "python",
   "pygments_lexer": "ipython3",
   "version": "3.8.5"
  },
  "toc": {
   "base_numbering": 1,
   "nav_menu": {},
   "number_sections": false,
   "sideBar": true,
   "skip_h1_title": true,
   "title_cell": "Table of Contents",
   "title_sidebar": "Contents",
   "toc_cell": false,
   "toc_position": {},
   "toc_section_display": true,
   "toc_window_display": false
  }
 },
 "nbformat": 4,
 "nbformat_minor": 4
}
